{
  "nbformat": 4,
  "nbformat_minor": 0,
  "metadata": {
    "colab": {
      "provenance": []
    },
    "kernelspec": {
      "name": "python3",
      "display_name": "Python 3"
    },
    "language_info": {
      "name": "python"
    }
  },
  "cells": [
    {
      "cell_type": "markdown",
      "source": [
        "importing the library"
      ],
      "metadata": {
        "id": "y7FhstywH8XC"
      }
    },
    {
      "cell_type": "markdown",
      "source": [
        "//SABIN CHAULAGAIN\n",
        "//2358554\n"
      ],
      "metadata": {
        "id": "hK989OmNbRJq"
      }
    },
    {
      "cell_type": "code",
      "source": [
        "import pandas as pd\n",
        "import numpy as np\n",
        "import time"
      ],
      "metadata": {
        "id": "qP5kCqRUH-Ew"
      },
      "execution_count": 41,
      "outputs": []
    },
    {
      "cell_type": "markdown",
      "source": [
        "# 1. Initialize an empty array with size 2X2"
      ],
      "metadata": {
        "id": "0d0XjjSWIT23"
      }
    },
    {
      "cell_type": "code",
      "source": [
        "empty_array = np.empty((2, 2))\n",
        "print(empty_array)\n"
      ],
      "metadata": {
        "colab": {
          "base_uri": "https://localhost:8080/"
        },
        "id": "yPjaYn6BIUhK",
        "outputId": "4cec8d56-fefe-4495-fc73-7d95b896d4cc"
      },
      "execution_count": 42,
      "outputs": [
        {
          "output_type": "stream",
          "name": "stdout",
          "text": [
            "[[1. 0.]\n",
            " [0. 1.]]\n"
          ]
        }
      ]
    },
    {
      "cell_type": "markdown",
      "source": [
        "# 2. Initialize an all one array with size 4X2\n"
      ],
      "metadata": {
        "id": "mvmzqLTVIUsQ"
      }
    },
    {
      "cell_type": "code",
      "source": [
        "ones_array = np.ones((4, 2))\n",
        "print(ones_array)\n"
      ],
      "metadata": {
        "colab": {
          "base_uri": "https://localhost:8080/"
        },
        "id": "IkEGriYUIU2U",
        "outputId": "9901a8ae-ce94-48bf-af96-c94460d06598"
      },
      "execution_count": 43,
      "outputs": [
        {
          "output_type": "stream",
          "name": "stdout",
          "text": [
            "[[1. 1.]\n",
            " [1. 1.]\n",
            " [1. 1.]\n",
            " [1. 1.]]\n"
          ]
        }
      ]
    },
    {
      "cell_type": "markdown",
      "source": [
        "# 3. Return a new array of given shape and type, filled with fill value\n"
      ],
      "metadata": {
        "id": "3Hzj-w1yIVOW"
      }
    },
    {
      "cell_type": "code",
      "source": [
        "filled_array = np.full((3, 3), 7)\n",
        "print(filled_array)\n",
        "\n"
      ],
      "metadata": {
        "colab": {
          "base_uri": "https://localhost:8080/"
        },
        "id": "OH7FFnFQIVZj",
        "outputId": "c15a1851-e8f2-41dc-8f04-f9d07c15d2cf"
      },
      "execution_count": 44,
      "outputs": [
        {
          "output_type": "stream",
          "name": "stdout",
          "text": [
            "[[7 7 7]\n",
            " [7 7 7]\n",
            " [7 7 7]]\n"
          ]
        }
      ]
    },
    {
      "cell_type": "markdown",
      "source": [
        "# 4. Return a new array of zeros with same shape and type as a given array\n"
      ],
      "metadata": {
        "id": "JnOVdpvBIVkf"
      }
    },
    {
      "cell_type": "code",
      "source": [
        "sample_array = np.array([[1, 2, 3], [4, 5, 6]])\n",
        "zeros_like_array = np.zeros_like(sample_array)\n",
        "print(zeros_like_array)"
      ],
      "metadata": {
        "colab": {
          "base_uri": "https://localhost:8080/"
        },
        "id": "HfGWadYaIVuf",
        "outputId": "90c076aa-953c-40b2-e547-00ace25fd30a"
      },
      "execution_count": 45,
      "outputs": [
        {
          "output_type": "stream",
          "name": "stdout",
          "text": [
            "[[0 0 0]\n",
            " [0 0 0]]\n"
          ]
        }
      ]
    },
    {
      "cell_type": "markdown",
      "source": [
        "# 5. Return a new array of ones with same shape and type as a given array\n"
      ],
      "metadata": {
        "id": "XmURDJExIV-T"
      }
    },
    {
      "cell_type": "code",
      "source": [
        "ones_like_array = np.ones_like(sample_array)\n",
        "print(ones_like_array)"
      ],
      "metadata": {
        "colab": {
          "base_uri": "https://localhost:8080/"
        },
        "id": "7nlBj4rgIWIu",
        "outputId": "f231b44c-75e5-4c3e-c7ce-c74db3a7d0d0"
      },
      "execution_count": 46,
      "outputs": [
        {
          "output_type": "stream",
          "name": "stdout",
          "text": [
            "[[1 1 1]\n",
            " [1 1 1]]\n"
          ]
        }
      ]
    },
    {
      "cell_type": "markdown",
      "source": [
        "# 6. Convert an existing list to a NumPy array\n"
      ],
      "metadata": {
        "id": "5nvxsmr_Ivmu"
      }
    },
    {
      "cell_type": "code",
      "source": [
        "new_list = [1, 2, 3, 4]\n",
        "numpy_array = np.array(new_list)\n",
        "print(numpy_array)"
      ],
      "metadata": {
        "colab": {
          "base_uri": "https://localhost:8080/"
        },
        "id": "5CS03VRoIvw6",
        "outputId": "0cb63f16-ae75-45c9-fc4d-acec5d7a21d7"
      },
      "execution_count": 47,
      "outputs": [
        {
          "output_type": "stream",
          "name": "stdout",
          "text": [
            "[1 2 3 4]\n"
          ]
        }
      ]
    },
    {
      "cell_type": "markdown",
      "source": [
        "Problem 2"
      ],
      "metadata": {
        "id": "WcFfGIrZJxJX"
      }
    },
    {
      "cell_type": "markdown",
      "source": [
        "Create an array with values ranging from 10 to 49. {Hint:np.arrange()}."
      ],
      "metadata": {
        "id": "IxctsVEKJZYW"
      }
    },
    {
      "cell_type": "code",
      "source": [
        "array_range = np.arange(10, 50)\n",
        "print(array_range)"
      ],
      "metadata": {
        "colab": {
          "base_uri": "https://localhost:8080/"
        },
        "id": "oVF9KQptJZhv",
        "outputId": "dbfcb935-ce1c-46ec-ba75-9e08bd5f07b1"
      },
      "execution_count": 48,
      "outputs": [
        {
          "output_type": "stream",
          "name": "stdout",
          "text": [
            "[10 11 12 13 14 15 16 17 18 19 20 21 22 23 24 25 26 27 28 29 30 31 32 33\n",
            " 34 35 36 37 38 39 40 41 42 43 44 45 46 47 48 49]\n"
          ]
        }
      ]
    },
    {
      "cell_type": "markdown",
      "source": [
        "Create a 3X3 matrix with values ranging from 0 to 8.\n",
        "{Hint:look for np.reshape()}"
      ],
      "metadata": {
        "id": "3lXsZevOJZsb"
      }
    },
    {
      "cell_type": "code",
      "source": [
        "matrix_3x3 = np.arange(9).reshape(3, 3)\n",
        "print(matrix_3x3)"
      ],
      "metadata": {
        "colab": {
          "base_uri": "https://localhost:8080/"
        },
        "id": "GHJR1Oo6JZ2C",
        "outputId": "4c00cdb6-ba25-43b4-f0b9-c8a3f218c8e4"
      },
      "execution_count": 49,
      "outputs": [
        {
          "output_type": "stream",
          "name": "stdout",
          "text": [
            "[[0 1 2]\n",
            " [3 4 5]\n",
            " [6 7 8]]\n"
          ]
        }
      ]
    },
    {
      "cell_type": "markdown",
      "source": [
        "Create a 3X3 identity matrix.{Hint:np.eye()}"
      ],
      "metadata": {
        "id": "Y-SLDcMxJaAf"
      }
    },
    {
      "cell_type": "code",
      "source": [
        "identity_matrix = np.eye(3)\n",
        "print(identity_matrix)"
      ],
      "metadata": {
        "colab": {
          "base_uri": "https://localhost:8080/"
        },
        "id": "-b6cjFFdJaKO",
        "outputId": "5caa32f1-58a9-4ccb-f29d-7857bb9618af"
      },
      "execution_count": 50,
      "outputs": [
        {
          "output_type": "stream",
          "name": "stdout",
          "text": [
            "[[1. 0. 0.]\n",
            " [0. 1. 0.]\n",
            " [0. 0. 1.]]\n"
          ]
        }
      ]
    },
    {
      "cell_type": "markdown",
      "source": [
        "Create a random array of size 30 and find the mean of the array.\n",
        "{Hint:check for np.random.random() and array.mean() function}"
      ],
      "metadata": {
        "id": "tNyvu_blJaT_"
      }
    },
    {
      "cell_type": "code",
      "source": [
        "random_array = np.random.random(30)\n",
        "mean_value = random_array.mean()\n",
        "print(mean_value)"
      ],
      "metadata": {
        "colab": {
          "base_uri": "https://localhost:8080/"
        },
        "id": "pwpbAwA3JaeG",
        "outputId": "326dd8ed-91f6-442d-9437-bdaf0054354a"
      },
      "execution_count": 51,
      "outputs": [
        {
          "output_type": "stream",
          "name": "stdout",
          "text": [
            "0.43103519239177623\n"
          ]
        }
      ]
    },
    {
      "cell_type": "markdown",
      "source": [
        "Create a 10X10 array with random values and find the minimum and maximum values."
      ],
      "metadata": {
        "id": "UvQQ0kW1Janp"
      }
    },
    {
      "cell_type": "code",
      "source": [
        "random_matrix = np.random.random((10, 10))\n",
        "min_value = random_matrix.min()\n",
        "max_value = random_matrix.max()\n",
        "print(\"Minimum value:\", min_value)\n",
        "print(\"Maximum value:\", max_value)"
      ],
      "metadata": {
        "colab": {
          "base_uri": "https://localhost:8080/"
        },
        "id": "Y2CHzLfJJawc",
        "outputId": "5e48ab2c-0070-419b-d0bd-784cf6b09dc0"
      },
      "execution_count": 52,
      "outputs": [
        {
          "output_type": "stream",
          "name": "stdout",
          "text": [
            "Minimum value: 0.0012446062076497677\n",
            "Maximum value: 0.9922441312969429\n"
          ]
        }
      ]
    },
    {
      "cell_type": "markdown",
      "source": [
        "Create a zero array of size 10 and replace 5th element with 1."
      ],
      "metadata": {
        "id": "egbNexSQJa6k"
      }
    },
    {
      "cell_type": "code",
      "source": [
        "zero_array = np.zeros(10)\n",
        "zero_array[4] = 1\n",
        "print(zero_array)"
      ],
      "metadata": {
        "colab": {
          "base_uri": "https://localhost:8080/"
        },
        "id": "QNsqMTvrJbEL",
        "outputId": "5fcfe4e5-b186-4d1f-b68d-83e39c835f9d"
      },
      "execution_count": 53,
      "outputs": [
        {
          "output_type": "stream",
          "name": "stdout",
          "text": [
            "[0. 0. 0. 0. 1. 0. 0. 0. 0. 0.]\n"
          ]
        }
      ]
    },
    {
      "cell_type": "markdown",
      "source": [
        "Reverse an array arr = [1,2,0,0,4,0]."
      ],
      "metadata": {
        "id": "zGM6-Q58JbN5"
      }
    },
    {
      "cell_type": "code",
      "source": [
        "arr = np.array([1, 2, 0, 0, 4, 0])\n",
        "reversed_arr = arr[::-1]\n",
        "print(reversed_arr)"
      ],
      "metadata": {
        "colab": {
          "base_uri": "https://localhost:8080/"
        },
        "id": "vJFRiQ-JJbYI",
        "outputId": "abf91592-f0fa-4ef2-ec7e-466062f919a5"
      },
      "execution_count": 54,
      "outputs": [
        {
          "output_type": "stream",
          "name": "stdout",
          "text": [
            "[0 4 0 0 2 1]\n"
          ]
        }
      ]
    },
    {
      "cell_type": "markdown",
      "source": [
        "Create a 2d array with 1 on border and 0 inside."
      ],
      "metadata": {
        "id": "yOXW0uUfJbhW"
      }
    },
    {
      "cell_type": "code",
      "source": [
        "border_array = np.ones((5, 5))\n",
        "border_array[1:-1, 1:-1] = 0\n",
        "print(border_array)"
      ],
      "metadata": {
        "colab": {
          "base_uri": "https://localhost:8080/"
        },
        "id": "-1TZnxxrJbrD",
        "outputId": "228fa200-e9c9-4ef7-803d-c4aa87faee1d"
      },
      "execution_count": 15,
      "outputs": [
        {
          "output_type": "stream",
          "name": "stdout",
          "text": [
            "[[1. 1. 1. 1. 1.]\n",
            " [1. 0. 0. 0. 1.]\n",
            " [1. 0. 0. 0. 1.]\n",
            " [1. 0. 0. 0. 1.]\n",
            " [1. 1. 1. 1. 1.]]\n"
          ]
        }
      ]
    },
    {
      "cell_type": "markdown",
      "source": [
        "Create a 8X8 matrix and fill it with a checkerboard pattern."
      ],
      "metadata": {
        "id": "DY2SD9WhJb1S"
      }
    },
    {
      "cell_type": "code",
      "source": [
        "checkerboard = np.zeros((8, 8), dtype=int)\n",
        "checkerboard[1::2, ::2] = 1\n",
        "checkerboard[::2, 1::2] = 1\n",
        "print(checkerboard)\n",
        "\n"
      ],
      "metadata": {
        "colab": {
          "base_uri": "https://localhost:8080/"
        },
        "id": "PyEx5pXkJb-h",
        "outputId": "7beb49a0-88ca-4a90-fc97-a3b34237ae95"
      },
      "execution_count": 55,
      "outputs": [
        {
          "output_type": "stream",
          "name": "stdout",
          "text": [
            "[[0 1 0 1 0 1 0 1]\n",
            " [1 0 1 0 1 0 1 0]\n",
            " [0 1 0 1 0 1 0 1]\n",
            " [1 0 1 0 1 0 1 0]\n",
            " [0 1 0 1 0 1 0 1]\n",
            " [1 0 1 0 1 0 1 0]\n",
            " [0 1 0 1 0 1 0 1]\n",
            " [1 0 1 0 1 0 1 0]]\n"
          ]
        }
      ]
    },
    {
      "cell_type": "markdown",
      "source": [
        "Problem - 3: Array Operations:\n",
        "For the following arrays:\n",
        "x = np.array([[1,2],[3,5]]) and y = np.array([[5,6],[7,8]]);\n",
        "v = np.array([9,10]) and w = np.array([11,12]);\n",
        "Complete all the task using numpy:"
      ],
      "metadata": {
        "id": "-Zaqtv7uMZSM"
      }
    },
    {
      "cell_type": "code",
      "source": [
        "x = np.array([[1, 2], [3, 5]])\n",
        "y = np.array([[5, 6], [7, 8]])\n",
        "v = np.array([9, 10])\n",
        "w = np.array([11, 12])"
      ],
      "metadata": {
        "id": "BPoWl-FlM3OV"
      },
      "execution_count": 56,
      "outputs": []
    },
    {
      "cell_type": "markdown",
      "source": [
        "Add the two array."
      ],
      "metadata": {
        "id": "WJy-P43sMZei"
      }
    },
    {
      "cell_type": "code",
      "source": [
        "addition = x + y\n",
        "print(addition)"
      ],
      "metadata": {
        "colab": {
          "base_uri": "https://localhost:8080/"
        },
        "id": "QH2RjkvlMe3R",
        "outputId": "3bc558c6-a411-4814-eaab-711825a2e7f3"
      },
      "execution_count": 57,
      "outputs": [
        {
          "output_type": "stream",
          "name": "stdout",
          "text": [
            "[[ 6  8]\n",
            " [10 13]]\n"
          ]
        }
      ]
    },
    {
      "cell_type": "markdown",
      "source": [
        "Subtract the two array."
      ],
      "metadata": {
        "id": "rLpxRPovMfBx"
      }
    },
    {
      "cell_type": "code",
      "source": [
        "subtraction = x-y\n",
        "print(subtraction)"
      ],
      "metadata": {
        "colab": {
          "base_uri": "https://localhost:8080/"
        },
        "id": "x4fc-qpJMfLG",
        "outputId": "8df3a660-a7d2-44ea-9ceb-0b8a35214b3f"
      },
      "execution_count": 58,
      "outputs": [
        {
          "output_type": "stream",
          "name": "stdout",
          "text": [
            "[[-4 -4]\n",
            " [-4 -3]]\n"
          ]
        }
      ]
    },
    {
      "cell_type": "markdown",
      "source": [
        "Multiply the array with any integers of your choice."
      ],
      "metadata": {
        "id": "e6qicWLSMfVa"
      }
    },
    {
      "cell_type": "code",
      "source": [
        "multiplication = x * 2\n",
        "print(multiplication)"
      ],
      "metadata": {
        "colab": {
          "base_uri": "https://localhost:8080/"
        },
        "id": "u0B5UXnVMfea",
        "outputId": "d282d505-ceb0-4ab7-aace-5feef8667864"
      },
      "execution_count": 59,
      "outputs": [
        {
          "output_type": "stream",
          "name": "stdout",
          "text": [
            "[[ 2  4]\n",
            " [ 6 10]]\n"
          ]
        }
      ]
    },
    {
      "cell_type": "markdown",
      "source": [
        "4. Find the square of each element of the array."
      ],
      "metadata": {
        "id": "YSQHuUt3Mfna"
      }
    },
    {
      "cell_type": "code",
      "source": [
        "square_x = np.square(x)\n",
        "print(square_x)"
      ],
      "metadata": {
        "colab": {
          "base_uri": "https://localhost:8080/"
        },
        "id": "S5kpXis1MfwL",
        "outputId": "29406606-a06f-4d27-8862-a7b624e419a2"
      },
      "execution_count": 60,
      "outputs": [
        {
          "output_type": "stream",
          "name": "stdout",
          "text": [
            "[[ 1  4]\n",
            " [ 9 25]]\n"
          ]
        }
      ]
    },
    {
      "cell_type": "markdown",
      "source": [
        "5. Find the dot product between: v(and)w ; x(and)v ; x(and)y."
      ],
      "metadata": {
        "id": "1--kojLmMf9M"
      }
    },
    {
      "cell_type": "code",
      "source": [
        "dot_vw = np.dot(v, w)\n",
        "dot_xv = np.dot(x, v)\n",
        "dot_xy = np.dot(x, y)\n",
        "print(\"Dot product of v and w:\", dot_vw)\n",
        "print(\"Dot product of x and v:\", dot_xv)\n",
        "print(\"Dot product of x and y:\", dot_xy)"
      ],
      "metadata": {
        "colab": {
          "base_uri": "https://localhost:8080/"
        },
        "id": "u6KbP6WUMgIc",
        "outputId": "7f5cad59-08b7-4cfa-f2b2-a7ae031e7bc9"
      },
      "execution_count": 61,
      "outputs": [
        {
          "output_type": "stream",
          "name": "stdout",
          "text": [
            "Dot product of v and w: 219\n",
            "Dot product of x and v: [29 77]\n",
            "Dot product of x and y: [[19 22]\n",
            " [50 58]]\n"
          ]
        }
      ]
    },
    {
      "cell_type": "markdown",
      "source": [
        "Concatenate x(and)y along row and Concatenate v(and)w along column.\n",
        "{Hint:try np.concatenate() or np.vstack() functions."
      ],
      "metadata": {
        "id": "gTVr9pBjMo2W"
      }
    },
    {
      "cell_type": "code",
      "source": [
        "concat_xy_row = np.concatenate((x, y), axis=0)\n",
        "concat_vw_col = np.vstack((v, w))\n",
        "print(\"Concatenated x and y along row:\")\n",
        "print(concat_xy_row)\n",
        "print(\"Concatenated v and w along column:\")\n",
        "print(concat_vw_col)"
      ],
      "metadata": {
        "colab": {
          "base_uri": "https://localhost:8080/"
        },
        "id": "KFoNw-jwMpFo",
        "outputId": "fc28901d-d3d1-44a9-8b0c-57a31ad70d9e"
      },
      "execution_count": 62,
      "outputs": [
        {
          "output_type": "stream",
          "name": "stdout",
          "text": [
            "Concatenated x and y along row:\n",
            "[[1 2]\n",
            " [3 5]\n",
            " [5 6]\n",
            " [7 8]]\n",
            "Concatenated v and w along column:\n",
            "[[ 9 10]\n",
            " [11 12]]\n"
          ]
        }
      ]
    },
    {
      "cell_type": "markdown",
      "source": [
        "Concatenate x(and)v; if you get an error, observe and explain why did you get the error?"
      ],
      "metadata": {
        "id": "qTpyywLEMt0l"
      }
    },
    {
      "cell_type": "code",
      "source": [
        "try:\n",
        "    concat_xv = np.concatenate((x, v), axis=0)\n",
        "except ValueError as e:\n",
        "    concat_xv = str(e)\n",
        "    print(\"Error:\", concat_xv)"
      ],
      "metadata": {
        "colab": {
          "base_uri": "https://localhost:8080/"
        },
        "id": "2rZlQ1kvMvx2",
        "outputId": "66e1ac02-e986-47b2-da7d-e4b1d34bb028"
      },
      "execution_count": 63,
      "outputs": [
        {
          "output_type": "stream",
          "name": "stdout",
          "text": [
            "Error: all the input arrays must have same number of dimensions, but the array at index 0 has 2 dimension(s) and the array at index 1 has 1 dimension(s)\n"
          ]
        }
      ]
    },
    {
      "cell_type": "markdown",
      "source": [
        "Explanation of the error:\n",
        "# The error occurs because `x` is a 2x2 matrix, and `v` is a 1D array with shape (2,).\n",
        "## In order to concatenate them, `v` must be reshaped to a 2D array, e.g., `v.reshape(1, -1)`."
      ],
      "metadata": {
        "id": "MhSCLE0LOx7o"
      }
    },
    {
      "cell_type": "markdown",
      "source": [
        "Problem - 4: Matrix Operations:\n",
        "• For the following arrays:\n",
        "A = np.array([[3,4],[7,8]]) and B = np.array([[5,3],[2,1]]);\n",
        "Prove following with Numpy:"
      ],
      "metadata": {
        "id": "t5gbFVrnQaqa"
      }
    },
    {
      "cell_type": "code",
      "source": [
        "A = np.array([[3, 4], [7, 8]])\n",
        "B = np.array([[5, 3], [2, 1]])"
      ],
      "metadata": {
        "id": "haqLV2kfR8Mr"
      },
      "execution_count": 64,
      "outputs": []
    },
    {
      "cell_type": "markdown",
      "source": [
        "1. Prove A.A−1 = I."
      ],
      "metadata": {
        "id": "6KxNRLEhQwgb"
      }
    },
    {
      "cell_type": "code",
      "source": [
        "A_inv = np.linalg.inv(A)\n",
        "identity_matrix = np.dot(A, A_inv)\n",
        "\n",
        "identity_matrix = np.round(identity_matrix, decimals=5)\n",
        "print(identity_matrix)"
      ],
      "metadata": {
        "colab": {
          "base_uri": "https://localhost:8080/"
        },
        "id": "BWMRIoJVQyY_",
        "outputId": "b987e5f7-715a-49e3-88c5-b2bf16a9a4e5"
      },
      "execution_count": 65,
      "outputs": [
        {
          "output_type": "stream",
          "name": "stdout",
          "text": [
            "[[1. 0.]\n",
            " [0. 1.]]\n"
          ]
        }
      ]
    },
    {
      "cell_type": "markdown",
      "source": [
        "Prove AB ̸= BA."
      ],
      "metadata": {
        "id": "24qS915tQykW"
      }
    },
    {
      "cell_type": "code",
      "source": [
        "AB = np.dot(A, B)\n",
        "BA = np.dot(B, A)\n",
        "are_not_equal = not np.array_equal(AB, BA)\n",
        "print(are_not_equal)"
      ],
      "metadata": {
        "colab": {
          "base_uri": "https://localhost:8080/"
        },
        "id": "pbbj-rvUQyvv",
        "outputId": "2c74446b-b5f6-4a68-b054-05cb6bb8cf9c"
      },
      "execution_count": 66,
      "outputs": [
        {
          "output_type": "stream",
          "name": "stdout",
          "text": [
            "True\n"
          ]
        }
      ]
    },
    {
      "cell_type": "markdown",
      "source": [
        "Prove (AB)\n",
        "\n",
        "T = BTAT\n",
        "."
      ],
      "metadata": {
        "id": "2Nqy0q-lQy5V"
      }
    },
    {
      "cell_type": "code",
      "source": [
        "AB_T = np.transpose(AB)\n",
        "BT_AT = np.dot(np.transpose(B), np.transpose(A))\n",
        "proof_transpose = np.array_equal(AB_T, BT_AT)\n",
        "print(proof_transpose)"
      ],
      "metadata": {
        "colab": {
          "base_uri": "https://localhost:8080/"
        },
        "id": "aNKUTgDKQzCp",
        "outputId": "35c2ba93-25da-4986-b0fe-9e08b7578eac"
      },
      "execution_count": 67,
      "outputs": [
        {
          "output_type": "stream",
          "name": "stdout",
          "text": [
            "True\n"
          ]
        }
      ]
    },
    {
      "cell_type": "markdown",
      "source": [
        "Solve the following system of Linear equation using Inverse Methods.\n",
        "\n",
        "2x − 3y + z = −1\n",
        "x − y + 2z = −3\n",
        "3x + y − z = 9"
      ],
      "metadata": {
        "id": "w4j5CniqQ9al"
      }
    },
    {
      "cell_type": "code",
      "source": [
        "A_matrix = np.array([[2, -3, 1], [1, -1, 2], [3, 1, -1]])\n",
        "B_matrix = np.array([-1, -3, 9])\n",
        "\n",
        "A_inv_matrix = np.linalg.inv(A_matrix)\n",
        "X_solution = np.dot(A_inv_matrix, B_matrix)\n",
        "\n",
        "X_solution_direct = np.linalg.solve(A_matrix, B_matrix)\n",
        "\n",
        "print(\"A * A^(-1) = Identity Matrix:\\n\", identity_matrix)\n",
        "print(\"AB ≠ BA:\", are_not_equal)\n",
        "print(\"(AB)^T = B^T * A^T:\", proof_transpose)\n",
        "print(\"Solution using Inverse Method:\", X_solution)\n",
        "print(\"Solution using np.linalg.solve:\", X_solution_direct)"
      ],
      "metadata": {
        "colab": {
          "base_uri": "https://localhost:8080/"
        },
        "id": "pUQtCaq3Q9kM",
        "outputId": "46bdb924-9b44-4dbf-cd3f-9b663618a951"
      },
      "execution_count": 68,
      "outputs": [
        {
          "output_type": "stream",
          "name": "stdout",
          "text": [
            "A * A^(-1) = Identity Matrix:\n",
            " [[1. 0.]\n",
            " [0. 1.]]\n",
            "AB ≠ BA: True\n",
            "(AB)^T = B^T * A^T: True\n",
            "Solution using Inverse Method: [ 2.  1. -2.]\n",
            "Solution using np.linalg.solve: [ 2.  1. -2.]\n"
          ]
        }
      ]
    },
    {
      "cell_type": "markdown",
      "source": [
        "10.2 Experiment: How Fast is Numpy?\n",
        "In this exercise, you will compare the performance and implementation of operations using plain Python\n",
        "lists (arrays) and NumPy arrays. Follow the instructions:"
      ],
      "metadata": {
        "id": "CeRc0ScqXS3F"
      }
    },
    {
      "cell_type": "markdown",
      "source": [
        "1. Element-wise Addition:\n",
        "• Using Python Lists, perform element-wise addition of two lists of size 1, 000, 000. Measure\n",
        "and Print the time taken for this operation."
      ],
      "metadata": {
        "id": "BmckMxQFXTqi"
      }
    },
    {
      "cell_type": "code",
      "source": [
        "size = 1_000_000\n",
        "matrix_size = 1000\n",
        "\n",
        "list1 = [i for i in range(size)]\n",
        "list2 = [i for i in range(size)]\n",
        "\n",
        "array1 = np.arange(size)\n",
        "array2 = np.arange(size)"
      ],
      "metadata": {
        "id": "vbiiOoFTX_-W"
      },
      "execution_count": 69,
      "outputs": []
    },
    {
      "cell_type": "code",
      "source": [
        "# Python lists\n",
        "start = time.time()\n",
        "result_list = [list1[i] + list2[i] for i in range(size)]\n",
        "end = time.time()\n",
        "print(f\"Python list addition time: {end - start:.5f} seconds\")\n",
        "\n"
      ],
      "metadata": {
        "id": "R80AodmWQ93g",
        "colab": {
          "base_uri": "https://localhost:8080/"
        },
        "outputId": "5159952a-8f31-466e-f978-1e3471c50d88"
      },
      "execution_count": 70,
      "outputs": [
        {
          "output_type": "stream",
          "name": "stdout",
          "text": [
            "Python list addition time: 0.08286 seconds\n"
          ]
        }
      ]
    },
    {
      "cell_type": "markdown",
      "source": [
        "Using Numpy Arrays, Repeat the calculation and measure and print the time taken for\n",
        "this operation."
      ],
      "metadata": {
        "id": "JBh9dADeXXAh"
      }
    },
    {
      "cell_type": "code",
      "source": [
        "# NumPy arrays\n",
        "start = time.time()\n",
        "result_array = array1 + array2\n",
        "end = time.time()\n",
        "print(f\"NumPy addition time: {end - start:.5f} seconds\")"
      ],
      "metadata": {
        "colab": {
          "base_uri": "https://localhost:8080/"
        },
        "id": "X4XgB7H1XXMR",
        "outputId": "9178dac9-093a-4b18-d098-9fc9fca33e9a"
      },
      "execution_count": 71,
      "outputs": [
        {
          "output_type": "stream",
          "name": "stdout",
          "text": [
            "NumPy addition time: 0.00832 seconds\n"
          ]
        }
      ]
    },
    {
      "cell_type": "markdown",
      "source": [
        "Element-wise Multiplication\n",
        "• Using Python Lists, perform element-wise multiplication of two lists of size 1, 000, 000.\n",
        "Measure and Print the time taken for this operation."
      ],
      "metadata": {
        "id": "mgy9m2QlXXZC"
      }
    },
    {
      "cell_type": "code",
      "source": [
        "start = time.time()\n",
        "result_list = [list1[i] * list2[i] for i in range(size)]\n",
        "end = time.time()\n",
        "print(f\"Python list multiplication time: {end - start:.5f} seconds\")"
      ],
      "metadata": {
        "colab": {
          "base_uri": "https://localhost:8080/"
        },
        "id": "yaEKIsrUXXhl",
        "outputId": "4cece33c-4ca3-4deb-8320-629a8f9bab7d"
      },
      "execution_count": 72,
      "outputs": [
        {
          "output_type": "stream",
          "name": "stdout",
          "text": [
            "Python list multiplication time: 0.10009 seconds\n"
          ]
        }
      ]
    },
    {
      "cell_type": "markdown",
      "source": [
        "Using Numpy Arrays, Repeat the calculation and measure and print the time taken for\n",
        "this operation."
      ],
      "metadata": {
        "id": "5FJue0BAXXsT"
      }
    },
    {
      "cell_type": "code",
      "source": [
        "start = time.time()\n",
        "result_array = array1 * array2\n",
        "end = time.time()\n",
        "print(f\"NumPy multiplication time: {end - start:.5f} seconds\")"
      ],
      "metadata": {
        "colab": {
          "base_uri": "https://localhost:8080/"
        },
        "id": "UTFbDNGqXX1U",
        "outputId": "055b823d-be7f-434a-ba33-24d5e760d817"
      },
      "execution_count": 73,
      "outputs": [
        {
          "output_type": "stream",
          "name": "stdout",
          "text": [
            "NumPy multiplication time: 0.00345 seconds\n"
          ]
        }
      ]
    },
    {
      "cell_type": "markdown",
      "source": [
        "Dot Product\n",
        "• Using Python Lists, compute the dot product of two lists of size 1, 000, 000. Measure and\n",
        "Print the time taken for this operation."
      ],
      "metadata": {
        "id": "d_thlftIXYAC"
      }
    },
    {
      "cell_type": "code",
      "source": [
        "start = time.time()\n",
        "dot_product = sum(list1[i] * list2[i] for i in range(size))\n",
        "end = time.time()\n",
        "print(f\"Python list dot product time: {end - start:.5f} seconds\")"
      ],
      "metadata": {
        "colab": {
          "base_uri": "https://localhost:8080/"
        },
        "id": "LQTDYFYSXYKW",
        "outputId": "da018e1e-45de-4666-9197-8bb9d59d3ccc"
      },
      "execution_count": 74,
      "outputs": [
        {
          "output_type": "stream",
          "name": "stdout",
          "text": [
            "Python list dot product time: 0.17959 seconds\n"
          ]
        }
      ]
    },
    {
      "cell_type": "markdown",
      "source": [
        "Using Numpy Arrays, Repeat the calculation and measure and print the time taken for\n",
        "this operation."
      ],
      "metadata": {
        "id": "hqt8HXoGXYTz"
      }
    },
    {
      "cell_type": "code",
      "source": [
        "start = time.time()\n",
        "dot_product_np = np.dot(array1, array2)\n",
        "end = time.time()\n",
        "print(f\"NumPy dot product time: {end - start:.5f} seconds\")"
      ],
      "metadata": {
        "colab": {
          "base_uri": "https://localhost:8080/"
        },
        "id": "9O--6on6XYdp",
        "outputId": "04f804dd-a495-4fc3-b2d4-8a4ee0aa9455"
      },
      "execution_count": 75,
      "outputs": [
        {
          "output_type": "stream",
          "name": "stdout",
          "text": [
            "NumPy dot product time: 0.00299 seconds\n"
          ]
        }
      ]
    },
    {
      "cell_type": "markdown",
      "source": [
        "Matrix Multiplication\n",
        "\n",
        "• Using Python lists, perform matrix multiplication of two matrices of size 1000x1000. Mea-\n",
        "sure and print the time taken for this operation."
      ],
      "metadata": {
        "id": "90FqgyuUXl_o"
      }
    },
    {
      "cell_type": "code",
      "source": [
        "matrix1 = [[i for i in range(matrix_size)] for _ in range(matrix_size)]\n",
        "matrix2 = [[i for i in range(matrix_size)] for _ in range(matrix_size)]\n",
        "\n",
        "matrix1_np = np.arange(matrix_size**2).reshape(matrix_size, matrix_size)\n",
        "matrix2_np = np.arange(matrix_size**2).reshape(matrix_size, matrix_size)"
      ],
      "metadata": {
        "id": "nFzagATTXmKz"
      },
      "execution_count": 76,
      "outputs": []
    },
    {
      "cell_type": "code",
      "source": [
        "start = time.time()\n",
        "result_matrix = [[sum(matrix1[i][k] * matrix2[k][j] for k in range(matrix_size)) for j in range(matrix_size)] for i in range(matrix_size)]\n",
        "end = time.time()\n",
        "print(f\"Python list matrix multiplication time: {end - start:.5f} seconds\")"
      ],
      "metadata": {
        "colab": {
          "base_uri": "https://localhost:8080/"
        },
        "id": "TBIHufsUYYul",
        "outputId": "8bcd6860-ecd9-483f-87cf-3777a8e44384"
      },
      "execution_count": 77,
      "outputs": [
        {
          "output_type": "stream",
          "name": "stdout",
          "text": [
            "Python list matrix multiplication time: 178.32781 seconds\n"
          ]
        }
      ]
    },
    {
      "cell_type": "markdown",
      "source": [],
      "metadata": {
        "id": "GaN78xp8bKp7"
      }
    },
    {
      "cell_type": "markdown",
      "source": [
        "Using NumPy arrays, perform matrix multiplication of two matrices of size 1000x1000.\n",
        "Measure and print the time taken for this operation."
      ],
      "metadata": {
        "id": "7ZQJzvBwXm-g"
      }
    },
    {
      "cell_type": "code",
      "source": [
        "start = time.time()\n",
        "result_matrix_np = np.dot(matrix1_np, matrix2_np)\n",
        "end = time.time()\n",
        "print(f\"NumPy matrix multiplication time: {end - start:.5f} seconds\")"
      ],
      "metadata": {
        "colab": {
          "base_uri": "https://localhost:8080/"
        },
        "id": "sSdTF79EXnJS",
        "outputId": "e067fbdc-da1c-47d2-832d-4910ed4b3ed0"
      },
      "execution_count": 78,
      "outputs": [
        {
          "output_type": "stream",
          "name": "stdout",
          "text": [
            "NumPy matrix multiplication time: 1.80148 seconds\n"
          ]
        }
      ]
    }
  ]
}